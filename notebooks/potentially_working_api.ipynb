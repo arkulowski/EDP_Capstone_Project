{
 "cells": [
  {
   "cell_type": "code",
   "execution_count": null,
   "metadata": {},
   "outputs": [],
   "source": [
    "import re\n",
    "import gensim.downloader as api\n",
    "import numpy as np\n",
    "\n",
    "# Example job titles\n",
    "job_titles = [\n",
    "    \"Forest and Conservation Technicians (19-4071)\",\n",
    "    \"Forensic Science Technicians (19-4092)\"\n",
    "]\n",
    "\n",
    "# Preprocess the job titles: remove text in parentheses\n",
    "def preprocess_title(title):\n",
    "    return re.sub(r'\\s*\\([^)]*\\)', '', title)\n",
    "\n",
    "processed_titles = [preprocess_title(title) for title in job_titles]\n",
    "\n",
    "# Load pre-trained Word2Vec model\n",
    "word2vec_model = api.load(\"word2vec-google-news-300\")\n",
    "\n",
    "# Convert job titles to word vectors\n",
    "def title_to_vector(title, model):\n",
    "    words = title.split()\n",
    "    word_vectors = [model[word] for word in words if word in model]\n",
    "    if word_vectors:\n",
    "        return np.mean(word_vectors, axis=0)\n",
    "    else:\n",
    "        return np.zeros(model.vector_size)\n",
    "\n",
    "title_vectors = [title_to_vector(title, word2vec_model) for title in processed_titles]\n",
    "\n",
    "# Print the vectors\n",
    "for title, vector in zip(processed_titles, title_vectors):\n",
    "    print(f\"Title: {title}\\nVector: {vector}\\n\")\n"
   ]
  }
 ],
 "metadata": {
  "language_info": {
   "name": "python"
  }
 },
 "nbformat": 4,
 "nbformat_minor": 2
}
